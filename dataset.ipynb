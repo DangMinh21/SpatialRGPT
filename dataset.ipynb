{
 "cells": [
  {
   "cell_type": "code",
   "execution_count": 1,
   "id": "23c7df4d",
   "metadata": {},
   "outputs": [],
   "source": [
    "import os\n",
    "import json\n",
    "\n",
    "from prepare_aicity_data_for_srgpt import *"
   ]
  },
  {
   "cell_type": "code",
   "execution_count": 2,
   "id": "7f705de3",
   "metadata": {},
   "outputs": [
    {
     "data": {
      "text/plain": [
       "('0001a', '.png')"
      ]
     },
     "execution_count": 2,
     "metadata": {},
     "output_type": "execute_result"
    }
   ],
   "source": [
    "# image_file = 'data/wsi/0001a.png'\n",
    "image_file = '0001a.png'\n",
    "\n",
    "os.path.splitext(os.path.basename(image_file))"
   ]
  },
  {
   "cell_type": "code",
   "execution_count": 3,
   "id": "2eae8920",
   "metadata": {},
   "outputs": [
    {
     "data": {
      "text/plain": [
       "100"
      ]
     },
     "execution_count": 3,
     "metadata": {},
     "output_type": "execute_result"
    }
   ],
   "source": [
    "with open('train_sample.json', 'r') as f:\n",
    "    train_sample = json.load(f)\n",
    "len(train_sample)"
   ]
  },
  {
   "cell_type": "code",
   "execution_count": 9,
   "id": "df28a113",
   "metadata": {},
   "outputs": [
    {
     "data": {
      "text/plain": [
       "{'id': 'e6f08787cba0eb0e6f5386a81016cb94',\n",
       " 'image': '054690.png',\n",
       " 'conversations': [{'from': 'human',\n",
       "   'value': '<image>\\nGiven the available transporters <mask> <mask> and pallets <mask> <mask> <mask> <mask> <mask> <mask> <mask>, which pallet is the best choice for automated pickup by an empty transporter?'},\n",
       "  {'from': 'gpt',\n",
       "   'value': 'The transporter [Region 1] is not transporting any boxes. The pallet [Region 5] is the closest to transporter [Region 1], so it is the most suitable choice for automated picking.'}],\n",
       " 'rle': [{'size': [1080, 1920],\n",
       "   'counts': 'XnRo03eQ16I2O2M2O1O1N2O1N3N1O1N2O1N2O1O1N3N1N2O1M3N2O1O1N2N3N1N10O10O1000O100000O01000O010000O0O200O01jNBRQO>mn0DRQO;on0W100O01000O0100000O01000O01000O010000O01000O010O10O1000O10O01000O01000000O2O1N2O1O1O1N2O1N3N0000O10001N10000MeMiPO[2Wo030O1O1O1O1N2001O000001N2O1O1O0O2O1O1N2O1N101N2O1O0ERPOkNPP1T1QPOkNPP1S1RPOkNoo0U1RPOjNoo0U1;I7Bkcek0'},\n",
       "  {'size': [1080, 1920],\n",
       "   'counts': 'ofa_12cQ14M2M4M3M2M4M2M4M2N3L3N3L3N3M2M4M2M4M2N3L3N3M2M4M2000O101O010O010O010O01O010OWOePOUO\\\\o0g0hPOYOWo0e0jPO\\\\OWo0`0jPOCUo0;jPOQOI`0^o0;iPO0Vo0NjPOWOIf0]o00jPOZOJh0\\\\o0LjPO\\\\OIl0\\\\o0EkPO_OIo0\\\\o0@kPOAIR1[o0ZOlPODIU1\\\\o0TOkPOV1To0kNhPOFM[1\\\\o0nNdPOH0]1[o0POePOS1[o0jNePOZ1\\\\o0`010O0N3M2M3010O010O01O010O010O010O0001O010O01O010O10O00RQO]Mhn0c2VQO^Mjn0b2VQO_Mjn0a2TQO`Mln0`2SQObMln0e21O010O010O010O01O01O0O2O0O2N101O01O01000O01O00010O010O0100O010O0010N1MmPOcMRo0c2N100O100O0010O010O0010O01O00001O001O0O20O10JnPOgMon0Y2RQOfMnn0Z2QQOhMon0`2010O010O01NXMSQOg2nn01010O01O010O010O010O01O01O010O02N010O010O00010O010O010O0010O00O2N1N3L3L5K5L4K4M4K4L4M4K4M4K4M4K5L4M3N2N3L4MPii8'},\n",
       "  {'size': [1080, 1920],\n",
       "   'counts': 'RcSh0;]Q1O06K6boN]OZo0j0`POXO^o0m0\\\\POUOco0Q1WPOQOfo0V1SPOlNlo0b1M2O1N3N1N2O1N2O1N2O1O2M2O1N3N1N2O2M2O1N3N1N4M2N1N2O2M2O1N3N1N2O2M101N2O1O2M2O1N3N1O1O2N1O1O2N1O2NgKhROS4Wm0mKjROU4Sm0jKPSOU4ol0kKRSOV4ll0iKVSOW4il0iKXSOW4gl0hK[SOY4cl0gK_SOX4Yl0oKhSOR4Vl0WLbSOi3\\\\l0k0O1N2O0O100O10000O100O010O01O0N3O0010O0100O010M210O010O010O010O010O1O010O010O010O0101N10000000001OO100O100nJ`SOk4al0TKaSOk4_l0UKcSOf4`l0YKbSOd4`l0\\\\KaSOb4`l0]KbSOb4^l0^KcSO`4b0_Knj01aTO_4a0`Knj00cTO^4?cKnj0OdTO]4>dK`k0W4bTOjK_k0U4`TOlKak0R4`TOnKak0Q4^TOPLck0n3^TORLck0m3\\\\TOTLek0j3\\\\TOVLek0i3ZTOXLhk0e3YTO[Lhk0d3WTO]Ljk0a3WTO_Ljk0`3UTOaLlk0]3UTOcLlk0\\\\3STOeLnk0Y3RTOhLok0W3QTOiLQl0T3oSOmLRl0Q3oSOoLRl0P3mSOPMUl0P3jSOPMWl0o2hSOQMZl0n2fSOQM\\\\l0o2bSORM_l0m2aSORMbl0l2]SOUMdl0j2\\\\SOUMfl0i2ZSOXMhl0f2XSOYM\\\\m0S2dROnMPn0^1oQObNcn0l0^QOTOTo08mPOHWo03kPOMVo01jPOOXo00hPOOZo0OfPO2\\\\o0KePO4]o0KbPO6jSeQ1'},\n",
       "  {'size': [1080, 1920],\n",
       "   'counts': 'c_ie04Y12mN5^o0N`QOMVOe1em0dNoROH\\\\Od1em0jNiROACe1dm0oNdRO\\\\OGf1dm0UO^ROVONe1dm0ZOYROPO3e0H5lm0;TROkN8g0KNhm0h0^RO[ONHdm0Q1YROYO6Bam0^2]ROaMbm0c2]RO[Mcm0f2\\\\ROZMdm0g2]ROWMbm0l2]ROSMcm0n2]ROQMbm0Q3_ROmLam0S3_ROmLam0S3aROkL^m0V3cROiL]m0X3cROgL]m0Z3eROcLZm0_3?1O2M2O1O5J2O1O2M2O000O10000O010O10O100O2O1O1N2O1N10O10O10O010O10O10O01000O0100O01000O01000O010O10O10O2O1N2O1O]RO[LTm0c3mRO]LTm0b3lRO^LUm0`3kROaLVm0^3jRObLWm0]3hROdLYm0Z3hROfLYm0Y3gROgLZm0W3fROjL[m0U3eROkL\\\\m0T3cROmL^m0Q3cROoL^m0P3bROPM_m0n2aROSM_m0m2aROSM`m0l2_ROUMdm0g2]ROYMcm0g2]ROYMcm0f2]ROZMem0e2[RO[Mfm0d2YRO]Mhm0a2YRO^Mim0a2WRO_Mjm0_2VROaMkm0_2UROaMkm0_2TRObMlm0]2URObMkm0_2UROaMkm0^2URObMkm0OgQOX2>iMkm0OhQOW2<kMlm0NiQOU2<lMkm0OkQOT2:mMkm0OlQOR29oMlm0OlQOQ28PNkm0OoQOP25RNlm0NPROn15SNlm0OPROm14TNkm0OSROl11UNmm0OXROe1L\\\\Nlm0NbRO]1AfNmm0MkROS1YOoNmm0NRSOk0QOWOmm0MZSOe0hN^Oko0`0VPO@ko0?TPOBmo0<TPOCno0<RPODoo0;PPOERP19ooNGRP18moNITP1L^oN4?OUP1K^oN5=0kZWU1'},\n",
       "  {'size': [1080, 1920],\n",
       "   'counts': 'WTdP1320]Q16O100O1O100O1O100O1O100O1G9\\\\Od0dMROYSOc1gl0]NdROX2[m0hMeROW2_OZMlm0>eROX2]m0iMbROX2]m0hMdROW2]m0hMcROX2]m0iMbROY2\\\\m0gMeROZ2Zm0eMfRO^2Xm0bMgRO`2Xm0_MiROa2Wm0^MiROc2Wm0]MhROd2Xm0[MiROe2Wm0ZMiROg2Wm0YMhROh2Xm0WMiROi2Wm0WMhROj2Xm0UMhROl2Xm0SMiROm2Wm0SMhROn2Xm0QMiROo2Wm0PMiROQ3Wm0oLhROR3Xm0mLiROS3Wm0lLiROU3Wm0kLhROV3Xm0iLiROW3Wm0hLiROY3Wm0gLhROZ3Xm0eLiRO[3Wm0eLhRO\\\\3im0100O1O100O1O100O1O100O100O1O100O1O100O1O100O1O100O1O10000nN`LjSOb3Ul0_LkSOa3Ul0^LkSOc3Tl0]LlSOd3Sl0]LmSOc3Sl0\\\\LmSOe3Sl0ZLnSOf3Rl0ZLmSOg3Sl0XLmSOi3Sl0VLnSOj3Rl0VLmSOk3Sl0TLmSOm3Sl0RLnSOn3Rl0RLmSOo3Sl0PLmSOQ4Sl0oKmSOQ4Sl0nKmSOS4Sl0lKmSOU4Sl0kKmSOU4Sl0jKmSOW4Sl0hKmSOY4Sl0gKmSOY4Sl0fKmSO[4Sl0dKmSO]4Sl0cKmSO]4Sl0bKmSO_4Sl0`KmSOa4Sl0_KmSOa4dl0100O1O100O1O100O1O100O1O100O1O100OkMWSO]Ohl0d0XSO\\\\Ohl0j2O1O100O100O1O10000001O1O1O1O1O2N1O1O1O1O1O1O2N1O1O1O1O1O1O1O2N1O1O1O1O1O1O2N1O1O1O1O1O1O2N1O1O1O1O1O1O1O2N1OO16J000000000000000000000000000000000000000000000000000]MfQOh1Zn0WNhQOh1Xn0WNjQOh1Vn0XNkQOg1Un0ZNkQOe1Un0\\\\NkQOc1Un0^NkQOa1Un0`NhQOVOOX2Yn0hNgQOW1Yn0jNgQOU1Yn0mNfQOR1Zn0oNfQOP1Zn0[NgQO3Oa1Zn0[NhQO5N^1[n0]NgQO6OW1^n0bNcQO9OQ1an0eN`QO<Oo0`n0eN`QO>0m0_n0eNaQO`0Ok0_n0FaQO;]n0FcQO:\\\\n0GdQO\\\\O1NZn0g0fQOVO43Un0h0gQORO84Qn0k0gQOQO83Qn0n0fQOoN92WUPg0'},\n",
       "  {'size': [1080, 1920],\n",
       "   'counts': '`dlX14P2`0UNOPn0EiSO>WNLkm0LlSO:WNKmm0LkSO:WNJmm0NjSOn0Vl0SOhSOn0Wl0TOhSOl0Wl0VOgSOk0Yl0VOeSOk0Zl0WOeSOi0Zl0YOdSOh0\\\\l0YObSOh0[k0jNmSO?f0h0\\\\k0iNoSO`0d0g0\\\\k0jNnSOb0d0e0^k0hNnSOe0b0d0_k0gNnSOh0b0a0`k0gNjSOm0d0=bk0eNgSOS1e09dk0cNeSOX1f05ek0cNaSO]1h01gk0aN^SOc1i0Mik0_N^SOf1h0Kjk0_N^SOg1f0Klk0]N^SOj1e0Imk0]N]SOl1f0Fmk0]N^SOn1e0Dmk0]N^SOQ2e0Amk0^N]SOS2f0^Omk0^N^SOU2e0\\\\Omk0^N^SOX2e0YOmk0_N^SOY2e0WOmk0_N^SO\\\\2f0SOlk0`N^SO_2f0POlk0aN^SO`2f0nNlk0aN^SOc2f0kNlk0aN^SOf2f0hNlk0bN^SOg2f0fNok0\\\\1QTOcNnk0_1RTO`Nnk0a1RTO^Nmk0d1STO[Nlk0g1TTOXNlk0i1TTOVN]k0SOmSOi2f0SN]k0TOlSOk2g0PN]k0TOmSOm2f0nM]k0TOmSOP3f0kM]k0UOmSOQ3f0iM]k0UOmSOT3f0fM]k0UOmSOW3f0cM]k0VOmSOX3f0aM]k0VOmSO[3f0^M]k0VOmSO^3f0[M]k0WOmSO_3f0YM]k0WOmSOb3f0VM]k0XOlSOd3g0SM]k0XOmSOf3f0QM]k0XOmSOi3f0nL]k0YOlSOk3g0kL]k0YOmSOm3f0iL`k0Y3`TOfL_k0\\\\3aTOcL_k0^3aTOaL^k0a3bTO^L^k0c3bTO\\\\L]k0f3cTOYLnj0J\\\\TOo3f0VLnj0K\\\\TOP4f0TLnj0K\\\\TOS4f0QLnj0L[TOU4g0nKnj0L\\\\TOW4f0lKnj0L\\\\TOZ4f0iKnj0M[TO\\\\4g0fKnj0M\\\\TO^4f0dKnj0M\\\\TOa4f0aKnj0N[TOc4h0]Kmj0O\\\\TOe4g0[Kmj0O\\\\TOh4g0XKmj00\\\\TOi4g0VKmj00\\\\TOl4g0SKmj00\\\\TOo4g0PKmj01\\\\TOP5^l0oJbSOS5`l02O1N2UTOhJSk0Z5kTOgJUk0Z5jTOfJdj0<lTOQ5>dJfj0m5XUOTJgj0n5WUOSJij0n5VUORJij0P6UUOQJjj0Q6TUOPJkj0R6TUOnIij0V6VUOjIgj0Z6YUOeIdj0_6\\\\UO`Iaj0d6_UO[I]j0j6cUOUI[j0n6eUOQIZj0Q7fUOnHYj0T751N2N2O1N2O0O1O01jKgUOm0Xj0TOhUO30[MXj0Q6hUOmIYj0h601O01O0O2N1N20101ZO`UOQJbj0n5_UOPJcj0P6]UOoIdj0Q6[UOnIfj0a62N2O1N2N1O10O0001O010O000010OfIRUOk5nj0VJSUOh5nj0WJTUOh5kj0YJVUOe5kj0ZJVUOQ5JVKPk0HXUOR5HVKoj0HZUOR5GVKnj0G]UOg5cj0XJ_UOf5bj0ZJ_UOd5bj0[J_UOd5bj0[J`UOd5`j0\\\\JaUOb5`j0]JbUOa5_j0^JcUO`5^j0`JcUOf4YOlKTk0]OeUOf4XOjKUk0_OdUOh4WOeKXk0CbUOh4UOcK[k0DbUOW5_j0iJbUOU5_j0jJcUOT5^j0kJdUOg0oNc3]k0fKdUOd0SOd3_l0YLdSOe3^l0WLfSOh3[l0TLiSOV3@SMil0DiSOY3_OQMdm0o2[ROPMgm0P3YROoLhm0_32N2N2O0O2N2N2O1N2N2N101N20000O2N0O1WO`QOYNbn0d1`QO[Nbn0b1aQO]N`n0`1cQO^N_n0_1dQO_N^n0]1fQOaN\\\\n0\\\\1gQObN[n0[1hQObNZn0[1jQObNYn0[1jQObNYn0[1jQObNYn0Z1cQOgNdn0V1[QOnNen0o0[QOSOfn0j0YQOZOfn0c0[QO@en0=[QOEfn08YQOLgn00ZQO2gn0KXQO9hn0DXQO>in0^OXQOe0gn0YOXQOj0in0SOWQOo0obZ?'},\n",
       "  {'size': [1080, 1920],\n",
       "   'counts': 'lkaV1c3Un00O1O100K5K5L4L400O1O100O1O100O1O100O1O100O1001O1O1O1\\\\MeROi0\\\\m0UOfROj0\\\\m0SOfROl0[m0SOfROl0Zm0UOfROj0Ym0XOgROg0Xm0[OhROd0Xm0]OeROYNOX2[m0FeRO9Zm0IfRO6Zm0LeRO3Zm0OfRO0Ym0\\\\OhROROOa1Ym0\\\\OiROTON^1Ym0_OiROTOOW1[m0EfROVOOQ1]m0IdROXOOo0\\\\m0IdROZO0m0Zm0JfRO[OOk0Ym0l0gROUOWm0l0iROTOUm0n0kROUN1NRm0o1nROnM43ml0P2oROjM84hl0T2PSOhM83gl0X2PSOeM92gl0Z2PSOdM91fl0]2VSO]M45el0`2WSO\\\\M33fl0b2XSOZM32dl0f2YSOXM31dl0h2YSOWM30cl0l2YSOTM4Obl0o2ZSORM4Nbl0Q3ZSORM3Lbl0T3[SOPM4J`l0X3]SOmL3J`l0Z3]SOlL3I_l0]3^SOjL3H^l0`3_SOhL3G]l0d3_SOeL4F]l0;[SOh24XM3D]l0<^SOh22XM4B[l0`0`SOd23YM2B[l0b0`SOa25[M0AZl0e0aSO^26\\\\MNAZl0g0`SO^28ZMLB\\\\l0g0_SO^29ZMIB^l0Q4iSO]LGC_l0R4jSO[LFC`l0S4kSO]LTl0e3lSOZLSl0h3mSOWLSl0j3mSOULRl0]3cSObL:0Rl0^3fSObL8OQl0_3iSObL6NQl0`3jSObL6Lok0b3mSObL4Knk0c3PTObL0LPl0a3RTOcLLMQl0c3RTOaLJMSl0d3TTO^LHNTl0e3TTO]LFOUl0f3UTOkLjk0W3VTOhLjk0Y3VTOfLik0\\\\3WTOcLik0^3WTOaLjk0o2kSOdL;<kk0n2lSOgL99lk0n2mSOiL77nk0o2lSOjL65Pl0o2lSOlL34Sl0n2lSOnL04Ul0m2lSOoLM4Zl0l2iSOPMK4^l0m2gSOnLI5bl0m2eSOnLH5dl0m2dSOcM^l0]2bSOaM`l0_2`SO_Mbl0a2^SO]Mdl0S2RSO^M:>el0S2RSO_M9<gl0S2RSOaM7:il0S2RSOcM67jl0T2RSOeM46kl0T2RSOgM14ol0S2RSOiMM4Sm0S2PSOiML3Vm0T2lROkML2Ym0S2gROoMNNcl0]OSTOf2XOSN0Jfl0^ORTOS4ok0nKQTOP4Pl0QLPTOn3Pl0SLPTOk3Ql0VLoSOQ2YO^Oil0bNnSOo1ZO]Oil0eNmSOl1\\\\O^Ogl0gNmSOi1]O_Ogl0iNlSOf1]OAhl0jNkSOd1\\\\OBjl0kNjSOb1[ODkl0kNjSOb1YOBnl0mNiSOR3Xl0oLhSOo2Yl0RMgSOm2Yl0TMgSOj2Zl0WMfSOg2[l0ZMeSOd2\\\\l0]MdSOk0XO6Um0POcSOh0ZO7Sm0ROcSOe0\\\\O7Rm0UObSOc0\\\\O7Sm0WOaSOa0[O8Um0XO`SO`0ZO8Vm0YO`SO?XO8Ym0ZO_SOn1bl0SN_SOj1bl0WN^SOh1bl0YN^SOe1cl0\\\\N]SOb1dl0_N\\\\SO_1el0bN[SO]1el0dN[SOZ1fl0gNZSOW1gl0jNWSOV1jl0kNUSOT1ll0mNRSOT1nl0mNPSOS1Qm0nNnROQ1Sm0POkROP1Vm0QOhROP1R1gMej0Z1WTOo0T1hMej0Z1VTOm0U1jMej0Z1TTOl0X1jMdj0[1RTOl0Y1jMej0[1QTOj0Z1lMej0[1PTOh0[1nMej0[1PTOe0[1QNej0[1PTOb0\\\\1SNdj0\\\\1PTO`0[1UNej0\\\\1PTO=[1XNej0\\\\1PTO:[1[Nej0\\\\1PTO7[1^Nej0\\\\1PTO5[1_Nej0]1PTO2[1bNej0]1PTOO[1eNej0]1PTOL[1hNej0]1PTOJZ1jNfj0]1PTOG[1lNej0^1PTOD[1oNej0\\\\1RTOCY1ROej0Z1TTOCV1TOfj0Y1UTOAV1VOej0`0lSOE;c0T1YOej0`0lSOB=c0R1\\\\Oej0T1[TO^OP1_Oej0S1\\\\TOjNBN\\\\15gj0R1]TOhNCOZ16gj0R1^TOeNE0W19gj0P1`TOdNEOV1=bb^b0'},\n",
       "  {'size': [1080, 1920],\n",
       "   'counts': 'fRla03eQ14L3L3YOLfoN5XP1KhoN8VP1KgoN5YP1OcoN1\\\\P13`oNN`P1f0O1DhNUPO[1ho0jNTPOW1jo0mNRPOV1lo0<O1N3N4L3L2O2N1N10000O2O2M2O1O2M2O2N1N5kMTMcSO2S1m2Wk0PMgSO7n0k2Yk0nLiSO;i0i2]k0lLiSO`0f0e2`k0jLkSOe0`0b2ek0iLkSOj0;]2jk0iLjSOo08X2nk0hLkSOT12U2Sl0gLkSOX1NQ2Wl0gLjSO]1Kk1gl0Y1USOgKkl0Y4USOfKkl0Z4USOgKkl0Y4USOgKkl0b40GUSOgKkl0Y4USOfKll0c4OGUSOgKkl0b41FTSOhKkl0Y4USOfKll0c40FTSOhKkl0b41FTSOhKkl0Y4USOfKll0c40FTSOhKkl0b41FTSOhKll0X4TSOgKll0c40FTSOhKll0X4TSOgKll0Y4TSOhKll0X4TSOgKml0b4OGTSOhKll0X4TSOgKml0X4SSOiKll0X4TSOgKml0b40FSSOiKnl0V4RSOiKPm0_41EoROlKSm0\\\\42DkROQL>HXl0_4iSOaKXl0^4hSObKYl0\\\\4gSOeK[l0Y4eSOgK[l0Y4dSOhK]l0V4dSOjK]l0U4bSOlK`l0R4`SOnKal0P4`SOPLal0o3^SORLcl0c3oRO`L?Mcl0k3\\\\SOVLel0_3mROdL>Mfl0g3[SOYLgl0[3jROhL>Nil0Y3iROhL?Oil0a3VSO`Lkl0U3gROlL>Oll0T3fROlL?Oml0S3dROoL>Ool0Q3cROoL?OQm0Y3nROhLSm0m2_ROTM>OTm0l2^ROTM?OUm0U3jROlLWm0i2[ROWM?OXm0R3gROoLZm0f2XRO[M>O\\\\m0d2VRO\\\\M?O]m0m2bROTM_m0a2SRO_M?O`m0j2_ROWMbm0^2PROcM>Ndm0^2nQOcM?Ogm0c2XRO^Mhm0X2jQOhM?Ogm0OoQOX29jMhm0NSROj1GYN>Nhm00SROi1GXN?Ogm0OTROS24oMmn0S1ePOmN?Omn0]1RQOdNnn0MePOn0OVO>Non00gPOg0LZO?Onn01kPOj06VOon01nPO;ED?Oon05kPO`05\\\\Oho0b0XPO]Oio0b0XPO^Ojo0`0UPOAlo0=UPOBmo0=RPODPP1:PPOEQP1:PPOFRP18moNITP15moNJho0JTPO;3Lio0JVPO71NaViX1'},\n",
       "  {'size': [1080, 1920],\n",
       "   'counts': 'XnRo03eQ16I2O2M2O1O1N2O1N3N1O1N2O1N2O1O1N3N1N2O1M3N2O1O1N2N3N1N10O10O1000O100000O01000O010000O0O200O01jNBRQO>mn0DRQO;on0W100O01000O0100000O01000O01000O010000O01000O010O10O1000O10O01000O01000000O2O1N2O1O1O1N2O1N3N0000O10001N10000MeMiPO[2Wo030O1O1O1O1N2001O000001N2O1O1O0O2O1O1N2O1N101N2O1O0ERPOkNPP1T1QPOkNPP1S1RPOkNoo0U1RPOjNoo0U1;I7Bkcek0'}],\n",
       " 'category': 'mcq',\n",
       " 'normalized_answer': '5',\n",
       " 'freeform_answer': 'The transporter [Region 1] is not transporting any boxes. The pallet [Region 5] is the closest to transporter [Region 1], so it is the most suitable choice for automated picking.'}"
      ]
     },
     "execution_count": 9,
     "metadata": {},
     "output_type": "execute_result"
    }
   ],
   "source": [
    "sample_0 = train_sample[0]\n",
    "sample_0"
   ]
  },
  {
   "cell_type": "code",
   "execution_count": 12,
   "id": "9878265a",
   "metadata": {},
   "outputs": [
    {
     "data": {
      "text/plain": [
       "{'id': '6f2d9687947435a3b9797ad265a790f9',\n",
       " 'image': '029734.png',\n",
       " 'conversations': [{'from': 'human',\n",
       "   'value': 'Give me the distance from the pallet <mask> to the pallet <mask>.'},\n",
       "  {'from': 'gpt',\n",
       "   'value': 'The pallet [Region 0] and the pallet [Region 1] are 9.81 meters apart from each other.'}],\n",
       " 'rle': [{'size': [1080, 1920],\n",
       "   'counts': 'gZjW12aQ16J6O1N2O1O1N2WOBVPO?io0ATPOc0ko0]OooNj0oo0WOloNo0SP1=N1I7J6I7J6I7J6I7J6I7M3O2M2O1O1N2O1O1O1N2O1O1O1N3N1O1N2O1O1O1N2O1O1O1N2O2N1N2O1O1O1N2O1O1O1N2O1O2N1N2O000O10O1000O0100001N2O1O1N2O1O1O2M1000000O10000O1000000O1000000O1000000O10000O1000000O100001O1O1O001O1O1O1O1O1O1O1O1O001O1O1O1O1O1O1O1O001O1O1O1O2N001O1O1O001O1O1`N`1O1O1O1O1O1O001O1O1O1O1O1O1O1O001O1O1O1O1O1O1U1kNO1O001O1O1O1O1O1O1O1O1O001O1O1JjQOhLWn0T3mQOkLTn0Q3PROnLQn0n2?L4L3O20000APQOUNPo0g1TQOYNln0c1XQO\\\\Nin0`1j0L4L4L3L5L4L4L4L4L4L4K5L4LZXb`0'},\n",
       "  {'size': [1080, 1920],\n",
       "   'counts': 'hRV<3dQ18I6I8I7H7J7I6I8I6^OTNlPOS2mn0b0J7I7I6J7I6J7I7I6J7I6J7I3M0003M2N0000O100O10000O10000O10000O10000O100O10000O1CjJXTOV5hk0mJTTOT5lk0mJSTOS5mk0nJRTOR5nk0nJQTOS5ok0mJQTOS5ok0lJRTOT5nk0lJQTOU5ok0kJQTOU5ok0jJQTOW5ok0iJQTOW5ok0hJRTOX5nk0hJQTOY5ok0gJQTOY5ok0hJPTOX5Pl0800000000000000000000000000002NO10000O100QOSKSUOm4mj0RKSUOo4mj0QKSUOo4mj0QKRUOP5nj0oJSUOQ5mj0oJSUOQ5mj0oJRUOR5nj0mJSUOS5mj0mJRUOT5nj0kJSUOU5mj0kJSUOU5mj0kJRUOV5nj0iJSUOW5mj0iJSUOW5mj0iJRUOX5nj0gJSUOY5mj0gJSUOY5mj0fJSUO[5mj0eJSUO[5mj0eJRUO\\\\5nj0cJSUO]5mj0cJSUO]5mj0cJRUO^5nj0aJSUO_5mj0aJSUO_5mj0aJRUO`5nj0_JSUOa5mj0_JRUOb5nj0]JSUOc5mj0]JSUOc5mj0]JRUOd5nj0[JSUOe5mj0[JSUOe5mj0[JRUOf5nj0YJSUOg5mj0YJRUOh5nj0WJSUOi5mj0WJSUOi5mj0WJRUOj5nj0UJSUOk5mj0VJRUOj5nj0VJQUOk5oj0UJQUOk5oj0UJQUOk5oj0UJPUOl5Pk0SJQUOm5oj0SJPUOn5Pk0RJPUOn5Pk0RJPUOn5Pk0=0000000000000000000000000000000000000]IPUO^6Pk0bIPUO^6Pk0aIQUO_6oj0`IQUOa6Sk00O10000O10000O100O1001O2N1O2N2N2N2N2N2N2N2N2N2N2N2N2N2N2N2N2N2N2N2N2N2N2N1O2N2N2N2N2N2N2N2N2N1O0000O10000O10VLkROQ3Tm0oLlROR3Tm0lLlROV3Tm0g0O100O10000001O3M3M4L4L3hM\\\\RO6hm0k14L5eMoQOe0Un0]14L3M4L4L3M3M3M4L3M4ChPORN\\\\o0j1dPOVN_o0d1aPOWN04co0a1]PO[N04io0\\\\1WPOgNlo0V1TPOjNPP1\\\\15L3M2M1O00100O0WOgoN5YP1JkoN3TP1NPPOMQP12TPOJfdbZ1'}],\n",
       " 'category': 'distance',\n",
       " 'normalized_answer': 9.81,\n",
       " 'freeform_answer': 'The pallet [Region 0] and the pallet [Region 1] are 9.81 meters apart from each other.'}"
      ]
     },
     "execution_count": 12,
     "metadata": {},
     "output_type": "execute_result"
    }
   ],
   "source": [
    "sample_1 = train_sample[2]\n",
    "sample_1"
   ]
  },
  {
   "cell_type": "code",
   "execution_count": 5,
   "id": "1709dcf2",
   "metadata": {},
   "outputs": [
    {
     "data": {
      "text/plain": [
       "100"
      ]
     },
     "execution_count": 5,
     "metadata": {},
     "output_type": "execute_result"
    }
   ],
   "source": [
    "len(os.listdir('train_sample/images'))"
   ]
  },
  {
   "cell_type": "code",
   "execution_count": 6,
   "id": "fbc56f68",
   "metadata": {},
   "outputs": [],
   "source": [
    "from prepare_aicity_data_for_srgpt import preprocess_aicity_conversations_for_script, convert_aicity_to_spatialrgpt_format"
   ]
  },
  {
   "cell_type": "code",
   "execution_count": 7,
   "id": "0cec497d",
   "metadata": {},
   "outputs": [
    {
     "name": "stdout",
     "output_type": "stream",
     "text": [
      "original_train_json: train_sample.json\n",
      "original_val_json: val.json\n"
     ]
    }
   ],
   "source": [
    "DEFAULT_IMAGE_TOKEN = \"<image>\"\n",
    "\n",
    "base_raw_data_dir = \"\"  # Create this and put data inside\n",
    "original_train_json = os.path.join(base_raw_data_dir, \"train_sample.json\")\n",
    "original_val_json = os.path.join(base_raw_data_dir, \"val.json\")\n",
    "\n",
    "print(f\"original_train_json: {original_train_json}\")\n",
    "print(f\"original_val_json: {original_val_json}\")\n",
    "\n",
    "processed_data_dir = \"data_formated\"  # Script will create this\n",
    "os.makedirs(processed_data_dir, exist_ok=True)"
   ]
  },
  {
   "cell_type": "code",
   "execution_count": 10,
   "id": "ae7e2361",
   "metadata": {},
   "outputs": [
    {
     "data": {
      "text/plain": [
       "[{'from': 'human',\n",
       "  'value': '<image>\\nGiven the available transporters <mask> <depth> <mask> <depth> and pallets <mask> <depth> <mask> <depth> <mask> <depth> <mask> <depth> <mask> <depth> <mask> <depth> <mask> <depth>, which pallet is the best choice for automated pickup by an empty transporter?'},\n",
       " {'from': 'gpt',\n",
       "  'value': 'The transporter [Region 1] is not transporting any boxes. The pallet [Region 5] is the closest to transporter [Region 1], so it is the most suitable choice for automated picking.'}]"
      ]
     },
     "execution_count": 10,
     "metadata": {},
     "output_type": "execute_result"
    }
   ],
   "source": [
    "preprocess_aicity_conversations_for_script(sample_0['conversations'])"
   ]
  },
  {
   "cell_type": "code",
   "execution_count": 11,
   "id": "452fbcc8",
   "metadata": {},
   "outputs": [
    {
     "data": {
      "text/plain": [
       "[{'from': 'human',\n",
       "  'value': '<image>\\nGive me the distance from the pallet <mask> <depth> to the pallet <mask> <depth>.'},\n",
       " {'from': 'gpt',\n",
       "  'value': 'The pallet [Region 0] and the pallet [Region 1] are 9.81 meters apart from each other.'}]"
      ]
     },
     "execution_count": 11,
     "metadata": {},
     "output_type": "execute_result"
    }
   ],
   "source": [
    "preprocess_aicity_conversations_for_script(sample_1['conversations'])"
   ]
  },
  {
   "cell_type": "code",
   "execution_count": 2,
   "id": "5bc411dd",
   "metadata": {
    "scrolled": true
   },
   "outputs": [
    {
     "ename": "JSONDecodeError",
     "evalue": "Expecting value: line 2 column 1 (char 2)",
     "output_type": "error",
     "traceback": [
      "\u001b[0;31m---------------------------------------------------------------------------\u001b[0m",
      "\u001b[0;31mJSONDecodeError\u001b[0m                           Traceback (most recent call last)",
      "Cell \u001b[0;32mIn[2], line 2\u001b[0m\n\u001b[1;32m      1\u001b[0m \u001b[38;5;28;01mwith\u001b[39;00m \u001b[38;5;28mopen\u001b[39m(\u001b[38;5;124m'\u001b[39m\u001b[38;5;124mtrain_sample.json\u001b[39m\u001b[38;5;124m'\u001b[39m) \u001b[38;5;28;01mas\u001b[39;00m f:\n\u001b[0;32m----> 2\u001b[0m     train \u001b[38;5;241m=\u001b[39m [json\u001b[38;5;241m.\u001b[39mloads(line) \u001b[38;5;28;01mfor\u001b[39;00m line \u001b[38;5;129;01min\u001b[39;00m f]\n",
      "Cell \u001b[0;32mIn[2], line 2\u001b[0m, in \u001b[0;36m<listcomp>\u001b[0;34m(.0)\u001b[0m\n\u001b[1;32m      1\u001b[0m \u001b[38;5;28;01mwith\u001b[39;00m \u001b[38;5;28mopen\u001b[39m(\u001b[38;5;124m'\u001b[39m\u001b[38;5;124mtrain_sample.json\u001b[39m\u001b[38;5;124m'\u001b[39m) \u001b[38;5;28;01mas\u001b[39;00m f:\n\u001b[0;32m----> 2\u001b[0m     train \u001b[38;5;241m=\u001b[39m [\u001b[43mjson\u001b[49m\u001b[38;5;241;43m.\u001b[39;49m\u001b[43mloads\u001b[49m\u001b[43m(\u001b[49m\u001b[43mline\u001b[49m\u001b[43m)\u001b[49m \u001b[38;5;28;01mfor\u001b[39;00m line \u001b[38;5;129;01min\u001b[39;00m f]\n",
      "File \u001b[0;32m~/miniconda3/envs/spatialrgpt/lib/python3.10/json/__init__.py:346\u001b[0m, in \u001b[0;36mloads\u001b[0;34m(s, cls, object_hook, parse_float, parse_int, parse_constant, object_pairs_hook, **kw)\u001b[0m\n\u001b[1;32m    341\u001b[0m     s \u001b[38;5;241m=\u001b[39m s\u001b[38;5;241m.\u001b[39mdecode(detect_encoding(s), \u001b[38;5;124m'\u001b[39m\u001b[38;5;124msurrogatepass\u001b[39m\u001b[38;5;124m'\u001b[39m)\n\u001b[1;32m    343\u001b[0m \u001b[38;5;28;01mif\u001b[39;00m (\u001b[38;5;28mcls\u001b[39m \u001b[38;5;129;01mis\u001b[39;00m \u001b[38;5;28;01mNone\u001b[39;00m \u001b[38;5;129;01mand\u001b[39;00m object_hook \u001b[38;5;129;01mis\u001b[39;00m \u001b[38;5;28;01mNone\u001b[39;00m \u001b[38;5;129;01mand\u001b[39;00m\n\u001b[1;32m    344\u001b[0m         parse_int \u001b[38;5;129;01mis\u001b[39;00m \u001b[38;5;28;01mNone\u001b[39;00m \u001b[38;5;129;01mand\u001b[39;00m parse_float \u001b[38;5;129;01mis\u001b[39;00m \u001b[38;5;28;01mNone\u001b[39;00m \u001b[38;5;129;01mand\u001b[39;00m\n\u001b[1;32m    345\u001b[0m         parse_constant \u001b[38;5;129;01mis\u001b[39;00m \u001b[38;5;28;01mNone\u001b[39;00m \u001b[38;5;129;01mand\u001b[39;00m object_pairs_hook \u001b[38;5;129;01mis\u001b[39;00m \u001b[38;5;28;01mNone\u001b[39;00m \u001b[38;5;129;01mand\u001b[39;00m \u001b[38;5;129;01mnot\u001b[39;00m kw):\n\u001b[0;32m--> 346\u001b[0m     \u001b[38;5;28;01mreturn\u001b[39;00m \u001b[43m_default_decoder\u001b[49m\u001b[38;5;241;43m.\u001b[39;49m\u001b[43mdecode\u001b[49m\u001b[43m(\u001b[49m\u001b[43ms\u001b[49m\u001b[43m)\u001b[49m\n\u001b[1;32m    347\u001b[0m \u001b[38;5;28;01mif\u001b[39;00m \u001b[38;5;28mcls\u001b[39m \u001b[38;5;129;01mis\u001b[39;00m \u001b[38;5;28;01mNone\u001b[39;00m:\n\u001b[1;32m    348\u001b[0m     \u001b[38;5;28mcls\u001b[39m \u001b[38;5;241m=\u001b[39m JSONDecoder\n",
      "File \u001b[0;32m~/miniconda3/envs/spatialrgpt/lib/python3.10/json/decoder.py:337\u001b[0m, in \u001b[0;36mJSONDecoder.decode\u001b[0;34m(self, s, _w)\u001b[0m\n\u001b[1;32m    332\u001b[0m \u001b[38;5;28;01mdef\u001b[39;00m\u001b[38;5;250m \u001b[39m\u001b[38;5;21mdecode\u001b[39m(\u001b[38;5;28mself\u001b[39m, s, _w\u001b[38;5;241m=\u001b[39mWHITESPACE\u001b[38;5;241m.\u001b[39mmatch):\n\u001b[1;32m    333\u001b[0m \u001b[38;5;250m    \u001b[39m\u001b[38;5;124;03m\"\"\"Return the Python representation of ``s`` (a ``str`` instance\u001b[39;00m\n\u001b[1;32m    334\u001b[0m \u001b[38;5;124;03m    containing a JSON document).\u001b[39;00m\n\u001b[1;32m    335\u001b[0m \n\u001b[1;32m    336\u001b[0m \u001b[38;5;124;03m    \"\"\"\u001b[39;00m\n\u001b[0;32m--> 337\u001b[0m     obj, end \u001b[38;5;241m=\u001b[39m \u001b[38;5;28;43mself\u001b[39;49m\u001b[38;5;241;43m.\u001b[39;49m\u001b[43mraw_decode\u001b[49m\u001b[43m(\u001b[49m\u001b[43ms\u001b[49m\u001b[43m,\u001b[49m\u001b[43m \u001b[49m\u001b[43midx\u001b[49m\u001b[38;5;241;43m=\u001b[39;49m\u001b[43m_w\u001b[49m\u001b[43m(\u001b[49m\u001b[43ms\u001b[49m\u001b[43m,\u001b[49m\u001b[43m \u001b[49m\u001b[38;5;241;43m0\u001b[39;49m\u001b[43m)\u001b[49m\u001b[38;5;241;43m.\u001b[39;49m\u001b[43mend\u001b[49m\u001b[43m(\u001b[49m\u001b[43m)\u001b[49m\u001b[43m)\u001b[49m\n\u001b[1;32m    338\u001b[0m     end \u001b[38;5;241m=\u001b[39m _w(s, end)\u001b[38;5;241m.\u001b[39mend()\n\u001b[1;32m    339\u001b[0m     \u001b[38;5;28;01mif\u001b[39;00m end \u001b[38;5;241m!=\u001b[39m \u001b[38;5;28mlen\u001b[39m(s):\n",
      "File \u001b[0;32m~/miniconda3/envs/spatialrgpt/lib/python3.10/json/decoder.py:355\u001b[0m, in \u001b[0;36mJSONDecoder.raw_decode\u001b[0;34m(self, s, idx)\u001b[0m\n\u001b[1;32m    353\u001b[0m     obj, end \u001b[38;5;241m=\u001b[39m \u001b[38;5;28mself\u001b[39m\u001b[38;5;241m.\u001b[39mscan_once(s, idx)\n\u001b[1;32m    354\u001b[0m \u001b[38;5;28;01mexcept\u001b[39;00m \u001b[38;5;167;01mStopIteration\u001b[39;00m \u001b[38;5;28;01mas\u001b[39;00m err:\n\u001b[0;32m--> 355\u001b[0m     \u001b[38;5;28;01mraise\u001b[39;00m JSONDecodeError(\u001b[38;5;124m\"\u001b[39m\u001b[38;5;124mExpecting value\u001b[39m\u001b[38;5;124m\"\u001b[39m, s, err\u001b[38;5;241m.\u001b[39mvalue) \u001b[38;5;28;01mfrom\u001b[39;00m\u001b[38;5;250m \u001b[39m\u001b[38;5;28;01mNone\u001b[39;00m\n\u001b[1;32m    356\u001b[0m \u001b[38;5;28;01mreturn\u001b[39;00m obj, end\n",
      "\u001b[0;31mJSONDecodeError\u001b[0m: Expecting value: line 2 column 1 (char 2)"
     ]
    }
   ],
   "source": [
    "with open('train_sample.json') as f:\n",
    "    train = [json.loads(line) for line in f]"
   ]
  },
  {
   "cell_type": "code",
   "execution_count": 3,
   "id": "e76245d3",
   "metadata": {},
   "outputs": [],
   "source": [
    "try:\n",
    "    with open('train_sample.json', \"r\") as f:\n",
    "        train_data = [json.loads(line) for line in f]\n",
    "except json.JSONDecodeError: # If it's a plain JSON list and not JSONL\n",
    "    with open('train_sample.json', \"r\") as f:\n",
    "        train_data = json.load(f)"
   ]
  },
  {
   "cell_type": "code",
   "execution_count": null,
   "id": "72ba20d9",
   "metadata": {},
   "outputs": [],
   "source": []
  }
 ],
 "metadata": {
  "kernelspec": {
   "display_name": "Python 3 (ipykernel)",
   "language": "python",
   "name": "python3"
  },
  "language_info": {
   "codemirror_mode": {
    "name": "ipython",
    "version": 3
   },
   "file_extension": ".py",
   "mimetype": "text/x-python",
   "name": "python",
   "nbconvert_exporter": "python",
   "pygments_lexer": "ipython3",
   "version": "3.10.16"
  }
 },
 "nbformat": 4,
 "nbformat_minor": 5
}
